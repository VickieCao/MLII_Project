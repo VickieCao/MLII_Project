{
 "cells": [
  {
   "cell_type": "code",
   "execution_count": 1,
   "metadata": {},
   "outputs": [],
   "source": [
    "import numpy as np\n",
    "import pandas as pd\n",
    "import pandas_datareader as web\n",
    "from sklearn.linear_model import LinearRegression\n",
    "import datetime\n",
    "import pandas_market_calendars as mcal\n",
    "import matplotlib.pyplot as plt\n",
    "\n",
    "def add_trading_days(from_date, ndays):\n",
    "    nyse = mcal.get_calendar('NYSE')\n",
    "    trading_days = nyse.valid_days(start_date='2000-01-01', end_date=\"2020-01-01\")\n",
    "    trading_days_to_add = abs(ndays)\n",
    "    current_date = datetime.datetime.strptime(from_date, '%Y-%m-%d')\n",
    "    sign = ndays/abs(ndays)\n",
    "    delta = datetime.timedelta(days=1)\n",
    "    while trading_days_to_add > 0:\n",
    "        current_date = (current_date+delta*sign)\n",
    "        if not current_date in trading_days:\n",
    "            continue\n",
    "        trading_days_to_add -= 1\n",
    "    return current_date.strftime('%Y-%m-%d')"
   ]
  },
  {
   "cell_type": "markdown",
   "metadata": {},
   "source": [
    "# Get spread between pairs"
   ]
  },
  {
   "cell_type": "code",
   "execution_count": 2,
   "metadata": {},
   "outputs": [],
   "source": [
    "def getSpread(pairs,end_date,window=60): \n",
    "#standing at end_date and calculate spreads in past 60 days  \n",
    "#     pairs should be in format [[p1,p2],[p1,p2]]\n",
    "#     return spread, index:date,value:spread\n",
    "    \n",
    "    start_date = add_trading_days(end_date,-window)\n",
    "    spread={}\n",
    "    beta=[]\n",
    "    #download data, compute return\n",
    "    for i,pair in enumerate(pairs):\n",
    "        stock_data=web.get_data_yahoo(pair, start=start_date, end=end_date)['Adj Close']\n",
    "        ret = stock_data.pct_change() * 100.0\n",
    "        ret=ret[1:]\n",
    "        days=ret.shape[0]\n",
    "        X=ret[pair[0]].values.reshape((days,1))\n",
    "        y=ret[pair[1]].values.reshape((days,1))\n",
    "        lr=LinearRegression().fit(X,y)\n",
    "        res=(y-lr.predict(X)).reshape(days)\n",
    "        spread['pair'+str(i+1)]=np.cumsum(res)-np.sum(res)\n",
    "        beta.append(lr.coef_[0])\n",
    "    spread=pd.DataFrame(spread,index=stock_data.index[1:])\n",
    "    return spread,beta"
   ]
  },
  {
   "cell_type": "markdown",
   "metadata": {},
   "source": [
    "# OU process for calculating today's s-score "
   ]
  },
  {
   "cell_type": "code",
   "execution_count": 3,
   "metadata": {},
   "outputs": [],
   "source": [
    "def OU_regression(X): #length of X=60 by default\n",
    "    x = X[:-1].reshape(-1,1)\n",
    "    y = X[1:].reshape(-1,1)\n",
    "    reg = LinearRegression().fit(x,y)\n",
    "    a = float(reg.intercept_)\n",
    "    b = float(reg.coef_)\n",
    "    m = a/(1-b)\n",
    "    sig_eq = np.std(y-a-b*x)/np.sqrt(1-b**2)\n",
    "    s = (X[-1]-m)/sig_eq\n",
    "    return s"
   ]
  },
  {
   "cell_type": "markdown",
   "metadata": {},
   "source": [
    "# Generate trading signals"
   ]
  },
  {
   "cell_type": "code",
   "execution_count": 4,
   "metadata": {},
   "outputs": [],
   "source": [
    "#1:buy,-1:sell,0:none——wrt to P\n",
    "def trade_pos(pairs,window,btwindow,end_date): \n",
    "    #window: window phase for calculating spread\n",
    "    #btwindow: backtest window phase\n",
    "    \n",
    "    sbo = sso = 1.25\n",
    "    sbc = 0.75\n",
    "    ssc = 0.5\n",
    "    \n",
    "    #construct backtest window\n",
    "    start_date = add_trading_days(end_date,-btwindow)\n",
    "    price = web.get_data_yahoo(pairs[0], start=start_date, end=end_date)[\"Adj Close\"] #used to determine # of trading days\n",
    "    dates = price.index.values\n",
    "    dates = [str(dates[i])[:10] for i in range(len(dates))]\n",
    "    \n",
    "    pos = np.zeros((len(price),len(pairs)))\n",
    "    betas = np.zeros((len(price),len(pairs)))\n",
    "\n",
    "    for i in range(len(price)): #iterate in the backtest window\n",
    "        date = dates[i]\n",
    "        spread,beta = getSpread(pairs,end_date=date,window=window)\n",
    "        for j in range(len(pairs)):\n",
    "            betas[i,j]=float(beta[j])\n",
    "            s = OU_regression(np.array(spread.iloc[:,j])) #calculate today's s-score\n",
    "            if (i==0 or pos[i-1,j]==0) and s<-sbo:\n",
    "                pos[i,j] = 1\n",
    "            elif (i==0 or pos[i-1,j]==0) and s>sso:\n",
    "                pos[i,j] = -1\n",
    "            elif i==0:\n",
    "                continue\n",
    "            elif (pos[i-1,j]==1 and s>-ssc) or (pos[i-1,j]==-1 and s<sbc):\n",
    "                pos[i,j] = 0\n",
    "            else:\n",
    "                pos[i,j] = pos[i-1,j]\n",
    "    return pos,betas\n"
   ]
  },
  {
   "cell_type": "markdown",
   "metadata": {},
   "source": [
    "# Backtesting"
   ]
  },
  {
   "cell_type": "code",
   "execution_count": 5,
   "metadata": {},
   "outputs": [],
   "source": [
    "def backtest(initial_capital,pairs,btwindow=251,window=60,end_date='2019-01-01'):\n",
    "    #determine the backtest window startdate\n",
    "    start_date = add_trading_days(end_date,-btwindow)\n",
    "    #generate trading signals in the backtest window\n",
    "    position, betas =trade_pos(pairs,window,btwindow,end_date)\n",
    "    \n",
    "    value=[]\n",
    "    for j, pair in enumerate(pairs):\n",
    "        price= web.get_data_yahoo(pair, start=start_date, end=end_date)[\"Adj Close\"]        \n",
    "        pos = position[:,j]\n",
    "        beta = betas[:,j]\n",
    "        v = np.ones(len(pos))*initial_capital\n",
    "        shares = np.zeros(2)\n",
    "        for i in range(len(pos)):\n",
    "            if i==0:\n",
    "                if pos[i]==0:\n",
    "                    continue\n",
    "                elif pos[i]==1:\n",
    "                    shares[1]= v[i]/price.iloc[i,1]\n",
    "                    shares[0]= -beta[i]*v[i]/price.iloc[i,0]\n",
    "                elif pos[i]==-1:\n",
    "                    shares[1]= -v[i]/beta[i]/price.iloc[i,1]\n",
    "                    shares[0]= v[i]/price.iloc[i,0]\n",
    "            elif pos[i]==0 and pos[i-1]==0:\n",
    "                v[i]=v[i-1]\n",
    "            elif pos[i]==1 and pos[i-1]==0:\n",
    "                v[i]=v[i-1]\n",
    "                shares[1]= v[i]/price.iloc[i,1]\n",
    "                shares[0]= -beta[i]*v[i]/price.iloc[i,0]\n",
    "            elif pos[i]==-1 and pos[i-1]==0:\n",
    "                v[i]=v[i-1]\n",
    "                shares[1]= -v[i]/beta[i]/price.iloc[i,1]\n",
    "                shares[0]= v[i]/price.iloc[i,0]\n",
    "            else:\n",
    "                v[i]=v[i-1]+shares[0]*(price.iloc[i,0]-price.iloc[i-1,0])+shares[1]*(price.iloc[i,1]-price.iloc[i-1,1])\n",
    "        value.append(v)\n",
    "    dates = price.index.values\n",
    "    return value,position,dates\n"
   ]
  },
  {
   "cell_type": "markdown",
   "metadata": {},
   "source": [
    "# Assess strategy performances"
   ]
  },
  {
   "cell_type": "code",
   "execution_count": 6,
   "metadata": {},
   "outputs": [],
   "source": [
    "def indicator(value):\n",
    "    port = pd.DataFrame({\"value\":value})\n",
    "    port[\"daily return\"] = port[\"value\"].pct_change(1)\n",
    "    a_return= ((value[-1]-value[0])/value[0])**(252/len(value))\n",
    "    a_vol = port[\"daily return\"][1:].std()*np.sqrt(252)\n",
    "    rf = 2.53*0.01 #10 year treasury rate\n",
    "    a_Sharpe_Ratio = (a_return-rf)/a_vol\n",
    "    return a_return,a_Sharpe_Ratio  "
   ]
  },
  {
   "cell_type": "markdown",
   "metadata": {},
   "source": [
    "# Two test examples"
   ]
  },
  {
   "cell_type": "code",
   "execution_count": 8,
   "metadata": {},
   "outputs": [
    {
     "data": {
      "image/png": "[encoded data removed]",
      "text/plain": [
       "<Figure size 432x288 with 1 Axes>"
      ]
     },
     "metadata": {
      "needs_background": "light"
     },
     "output_type": "display_data"
    },
    {
     "name": "stdout",
     "output_type": "stream",
     "text": [
      "['MS', 'GS'] :\n",
      "Annualized return: 0.11549700324094615\n",
      "Annualized Sharpe Ratio: 0.8545174315228833\n"
     ]
    },
    {
     "data": {
      "image/png": "[encoded data removed]",
      "text/plain": [
       "<Figure size 432x288 with 1 Axes>"
      ]
     },
     "metadata": {
      "needs_background": "light"
     },
     "output_type": "display_data"
    },
    {
     "name": "stdout",
     "output_type": "stream",
     "text": [
      "['PEP', 'KO'] :\n",
      "Annualized return: 0.2737006417206052\n",
      "Annualized Sharpe Ratio: 2.627704824114986\n"
     ]
    }
   ],
   "source": [
    "pairs = [[\"MS\",\"GS\"],[\"PEP\",\"KO\"]]\n",
    "value,position,dates = backtest(100,pairs,btwindow=251,window=60,end_date='2019-01-01')\n",
    "\n",
    "for i in range(len(pairs)):\n",
    "    plt.plot(dates,value[i])\n",
    "    plt.title(pairs[i])\n",
    "    plt.xlabel(\"Time\")\n",
    "    plt.ylabel(\"portfolio value\")\n",
    "    plt.show()\n",
    "    a_return,a_Sharpe_Ratio  = indicator(value[i])\n",
    "    print(pairs[i],\":\")\n",
    "    print(\"Annualized return:\",a_return)\n",
    "    print(\"Annualized Sharpe Ratio:\",a_Sharpe_Ratio)"
   ]
  }
 ],
 "metadata": {
  "kernelspec": {
   "display_name": "Python 3",
   "language": "python",
   "name": "python3"
  },
  "language_info": {
   "codemirror_mode": {
    "name": "ipython",
    "version": 3
   },
   "file_extension": ".py",
   "mimetype": "text/x-python",
   "name": "python",
   "nbconvert_exporter": "python",
   "pygments_lexer": "ipython3",
   "version": "3.7.1"
  }
 },
 "nbformat": 4,
 "nbformat_minor": 2
}
